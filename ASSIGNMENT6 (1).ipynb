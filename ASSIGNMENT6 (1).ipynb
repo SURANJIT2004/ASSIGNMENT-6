{
 "cells": [
  {
   "cell_type": "code",
   "execution_count": 1,
   "id": "41bc628c-510b-4ec1-907e-4cb308261357",
   "metadata": {},
   "outputs": [
    {
     "name": "stdout",
     "output_type": "stream",
     "text": [
      "{1: 10, 2: 20, 3: 30, 4: 40, 5: 50, 6: 60}\n"
     ]
    }
   ],
   "source": [
    "dic1={1:10,2:20}\n",
    "dic2={3:30,4:40}\n",
    "dic3={5:50,6:60}\n",
    "dic={**dic1,**dic2,**dic3}\n",
    "print(dic)"
   ]
  },
  {
   "cell_type": "code",
   "execution_count": 2,
   "id": "955c41be-3e90-4c1f-a7a5-f72c7ec874ef",
   "metadata": {},
   "outputs": [
    {
     "name": "stdin",
     "output_type": "stream",
     "text": [
      "Enter the No. : 5\n"
     ]
    },
    {
     "name": "stdout",
     "output_type": "stream",
     "text": [
      "{1: 1, 2: 4, 3: 9, 4: 16, 5: 25}\n"
     ]
    }
   ],
   "source": [
    "n=int(input(\"Enter the No. :\"))\n",
    "d=dict()\n",
    "for i in range(1,n+1):\n",
    "    d[i]=i*i\n",
    "print(d)    "
   ]
  },
  {
   "cell_type": "code",
   "execution_count": 3,
   "id": "36019352-fe84-4b2a-967c-0c9b0cc67304",
   "metadata": {},
   "outputs": [
    {
     "name": "stdout",
     "output_type": "stream",
     "text": [
      "{1: 1, 2: 4, 3: 9, 4: 16, 5: 25, 6: 36, 7: 49, 8: 64, 9: 81, 10: 100, 11: 121, 12: 144, 13: 169, 14: 196, 15: 225}\n"
     ]
    }
   ],
   "source": [
    "d=dict()\n",
    "for i in range(1,16):\n",
    "    d[i]=i*i\n",
    "print(d) \n"
   ]
  },
  {
   "cell_type": "code",
   "execution_count": 1,
   "id": "8741fc5d-a61c-4b00-85e1-0812b162de1c",
   "metadata": {},
   "outputs": [
    {
     "name": "stdout",
     "output_type": "stream",
     "text": [
      "Dictionary is empty\n"
     ]
    }
   ],
   "source": [
    "my_dict = {}\n",
    "if not bool(my_dict):\n",
    "    print(\"Dictionary is empty\")\n"
   ]
  },
  {
   "cell_type": "code",
   "execution_count": 5,
   "id": "edf76992-f515-4b0f-b148-371536ff268b",
   "metadata": {},
   "outputs": [
    {
     "name": "stdout",
     "output_type": "stream",
     "text": [
      "{'a': 400, 'b': 400, 'd': 400}\n"
     ]
    }
   ],
   "source": [
    "\n",
    "dict1 = {'a': 100, 'b': 200, 'c':300}\n",
    "dict2 = {'a': 300, 'b': 200, 'd':400}\n",
    "\n",
    "for key in dict2:\n",
    "\tif key in dict1:\n",
    "\t\tdict2[key] = dict1[key] + dict2[key]\n",
    "\telse:\n",
    "\t\tpass\n",
    "\t\t\n",
    "print(dict2)\n"
   ]
  },
  {
   "cell_type": "code",
   "execution_count": 10,
   "id": "33219378-e1e7-4780-a15e-f6a38a4747ce",
   "metadata": {},
   "outputs": [
    {
     "name": "stdout",
     "output_type": "stream",
     "text": [
      "list [{'V': 'S001'}, {'V': 'S002'}, {'VI': 'S001'}, {'VI': 'S005'}, {'VII': 'S005'}, {'V': 'S009'}, {'VII': 'S007'}]\n",
      "Unique List {'S007', 'S005', 'S001', 'S002', 'S009'}\n"
     ]
    }
   ],
   "source": [
    "L=[{\"V\":\"S001\"},{\"V\":\"S002\"},{\"VI\":\"S001\"},{\"VI\":\"S005\"},{\"VII\":\"S005\"},{\"V\":\"S009\"},{\"VII\":\"S007\"}]\n",
    "print(\"list\",L)\n",
    "u_val=set(val for dic in L for val in dic.values())\n",
    "print(\"Unique List\",u_val)"
   ]
  },
  {
   "cell_type": "code",
   "execution_count": 13,
   "id": "94169dae-edcb-43b7-9a51-8414ca13b091",
   "metadata": {},
   "outputs": [
    {
     "name": "stdout",
     "output_type": "stream",
     "text": [
      "ac\n",
      "ad\n",
      "bc\n",
      "bd\n"
     ]
    }
   ],
   "source": [
    "from itertools import product\n",
    "d={'1':['a','b'],'2':['c','d']}\n",
    "for x,y in product(*d.values()):\n",
    "    print(x+y)"
   ]
  },
  {
   "cell_type": "code",
   "execution_count": 16,
   "id": "06bfee61-da40-41b8-94d7-f164b68bbab3",
   "metadata": {},
   "outputs": [
    {
     "name": "stdout",
     "output_type": "stream",
     "text": [
      "Requirement already satisfied: counter in c:\\users\\suran\\anaconda3\\lib\\site-packages (1.0.0)\n",
      "Note: you may need to restart the kernel to use updated packages.\n"
     ]
    }
   ],
   "source": [
    "pip install counter\n"
   ]
  },
  {
   "cell_type": "code",
   "execution_count": 3,
   "id": "ff8735e0-db77-44d8-9e23-51dfe9eb68db",
   "metadata": {},
   "outputs": [
    {
     "name": "stdout",
     "output_type": "stream",
     "text": [
      "Counter({'item1': 1150, 'item2': 300})\n"
     ]
    }
   ],
   "source": [
    "from collections import Counter\n",
    "item_list = [{'item': 'item1', 'amount': 400}, {'item': 'item2', 'amount': 300}, {'item': 'item1', 'amount': 750}]\n",
    "result = Counter()\n",
    "for d in item_list:\n",
    "    result[d['item']] += d['amount']\n",
    "print(result)"
   ]
  },
  {
   "cell_type": "code",
   "execution_count": 7,
   "id": "12e05235-794a-4cf4-b920-8a6a5714aaf8",
   "metadata": {},
   "outputs": [
    {
     "name": "stdin",
     "output_type": "stream",
     "text": [
      "Enter a String :  Suranjit\n"
     ]
    },
    {
     "name": "stdout",
     "output_type": "stream",
     "text": [
      "{'S': 1, 'u': 1, 'r': 1, 'a': 1, 'n': 1, 'j': 1, 'i': 1, 't': 1}\n"
     ]
    }
   ],
   "source": [
    "from collections import defaultdict, Counter\n",
    "str1 =input(\"Enter a String : \")\n",
    "my_dict = {}\n",
    "for letter in str1:\n",
    "    my_dict[letter] = my_dict.get(letter, 0) + 1\n",
    "print(my_dict) "
   ]
  },
  {
   "cell_type": "code",
   "execution_count": 7,
   "id": "925d97e2-b2bf-434e-8e8e-8942ad08719c",
   "metadata": {},
   "outputs": [
    {
     "name": "stdout",
     "output_type": "stream",
     "text": [
      "6\n",
      "2\n"
     ]
    }
   ],
   "source": [
    "student = [{'id': 1, 'success': True, 'name': 'Lary'},\n",
    " {'id': 2, 'success': False, 'name': 'Rabi'},\n",
    " {'id': 3, 'success': True, 'name': 'Alex'}]\n",
    "print(sum(d['id'] for d in student))\n",
    "print(sum(d['success'] for d in student))"
   ]
  },
  {
   "cell_type": "code",
   "execution_count": 14,
   "id": "7dd2c07d-e7ab-4bf5-b0aa-fe77602f78de",
   "metadata": {},
   "outputs": [
    {
     "name": "stdout",
     "output_type": "stream",
     "text": [
      "The key Alice has 0 values.\n"
     ]
    }
   ],
   "source": [
    "def count_values(data, key):\n",
    "    count = 0\n",
    "    for k, v in data.items():\n",
    "        if k == key:\n",
    "            count += 1\n",
    "    return count\n",
    "\n",
    "\n",
    "my_dict = {\"name\": \"Alice\", \"fruits\": [\"apple\", \"banana\", \"orange\"], \"age\": 30}\n",
    "key_to_count = \"Alice\"\n",
    "value_count = count_values(my_dict, key_to_count)\n",
    "\n",
    "print(\"The key\" , key_to_count , \"has\" , value_count , \"values.\")\n"
   ]
  },
  {
   "cell_type": "code",
   "execution_count": 15,
   "id": "fd254e5a-9719-477d-b49d-2b18adcd1d0a",
   "metadata": {},
   "outputs": [
    {
     "name": "stdout",
     "output_type": "stream",
     "text": [
      "Top three items in the shop:\n",
      "item4: $55\n",
      "item1: $45.5\n",
      "item3: $41.3\n"
     ]
    }
   ],
   "source": [
    "def get_top_three_items(shop_items):\n",
    "    sorted_items = sorted(shop_items.items(), key=lambda x: x[1], reverse=True)\n",
    "    top_three = sorted_items[:3]\n",
    "    \n",
    "    return top_three\n",
    "shop_items = {'item1': 45.50, 'item2': 35, 'item3': 41.30, 'item4': 55, 'item5': 24}\n",
    "top_three = get_top_three_items(shop_items)\n",
    "print(\"Top three items in the shop:\")\n",
    "for item, price in top_three:\n",
    "    print(f\"{item}: ${price}\")\n"
   ]
  },
  {
   "cell_type": "code",
   "execution_count": 16,
   "id": "833b07af-d26e-45ac-8cbd-9a2a78c0e703",
   "metadata": {},
   "outputs": [
    {
     "name": "stdout",
     "output_type": "stream",
     "text": [
      "[('Chemistry', 87), ('Physics', 83), ('Math', 81)]\n"
     ]
    }
   ],
   "source": [
    "from collections import Counter\n",
    "x = Counter({'Math': 81, 'Physics': 83, 'Chemistry': 87})\n",
    "print(x.most_common())"
   ]
  },
  {
   "cell_type": "code",
   "execution_count": 17,
   "id": "d86a2a45-74cb-470e-8645-cbe2b53ccf06",
   "metadata": {},
   "outputs": [
    {
     "name": "stdout",
     "output_type": "stream",
     "text": [
      "defaultdict(<class 'set'>, {'Class-V': {1}, 'Class-VI': {2}, 'Class-VII': {2}, 'Class-VIII': {3}})\n"
     ]
    }
   ],
   "source": [
    "from collections import defaultdict\n",
    "class_list = ['Class-V', 'Class-VI', 'Class-VII', 'Class-VIII']\n",
    "id_list = [1, 2, 2, 3]\n",
    "temp = defaultdict(set)\n",
    "for c, i in zip(class_list, id_list):\n",
    "    temp[c].add(i)\n",
    "print(temp) "
   ]
  },
  {
   "cell_type": "code",
   "execution_count": 21,
   "id": "1736eda0-fb04-4b1f-b9f5-42797dd0a412",
   "metadata": {},
   "outputs": [
    {
     "name": "stdout",
     "output_type": "stream",
     "text": [
      "Matching key-value pairs:\n",
      "key1 : 1 is present in both x and y\n"
     ]
    }
   ],
   "source": [
    "def match_key_values(dict1, dict2):\n",
    "    common_keys = []\n",
    "    for key in dict1:\n",
    "        if key in dict2 and dict1[key] == dict2[key]:\n",
    "            common_keys.append((key, dict1[key]))\n",
    "    return common_keys\n",
    "dict1 = {'key1': 1, 'key2': 3, 'key3': 2}\n",
    "dict2 = {'key1': 1, 'key2': 2}\n",
    "matching_pairs = match_key_values(dict1, dict2)\n",
    "if matching_pairs:\n",
    "    print(\"Matching key-value pairs:\")\n",
    "    for key, value in matching_pairs:\n",
    "        print(key ,\":\" , value , \"is present in both x and y\")\n",
    "else:\n",
    "    print(\"No matching key-value pairs found.\")\n"
   ]
  },
  {
   "cell_type": "code",
   "execution_count": 23,
   "id": "894a52c2-bea9-462b-b5a8-870f40b76b18",
   "metadata": {},
   "outputs": [
    {
     "name": "stdout",
     "output_type": "stream",
     "text": [
      "15\n",
      "25\n",
      "35\n",
      "x has value [11, 12, 13, 14, 15, 16, 17, 18, 19]\n",
      "y has value [21, 22, 23, 24, 25, 26, 27, 28, 29]\n",
      "z has value [31, 32, 33, 34, 35, 36, 37, 38, 39]\n"
     ]
    }
   ],
   "source": [
    "dictionary = {'x': [11, 12, 13, 14, 15, 16, 17, 18, 19],\n",
    "              'y': [21, 22, 23, 24, 25, 26, 27, 28, 29],\n",
    "              'z': [31, 32, 33, 34, 35, 36, 37, 38, 39]}\n",
    "x_fifth_value = dictionary['x'][4]\n",
    "y_fifth_value = dictionary['y'][4]\n",
    "z_fifth_value = dictionary['z'][4]\n",
    "\n",
    "print(x_fifth_value)\n",
    "print(y_fifth_value)\n",
    "print(z_fifth_value)\n",
    "\n",
    "for key, value in dictionary.items():\n",
    "    print(f\"{key} has value {value}\")\n"
   ]
  },
  {
   "cell_type": "code",
   "execution_count": 24,
   "id": "54228fd1-4f74-4491-bb3f-a7e06f78d770",
   "metadata": {},
   "outputs": [
    {
     "name": "stdout",
     "output_type": "stream",
     "text": [
      "Original Dictionary:\n",
      "{'c1': 'Red', 'c2': 'Green', 'c3': None}\n",
      "New Dictionary after dropping empty items:\n",
      "{'c1': 'Red', 'c2': 'Green'}\n"
     ]
    }
   ],
   "source": [
    "dict1 = {'c1': 'Red', 'c2': 'Green', 'c3': None}\n",
    "print(\"Original Dictionary:\")\n",
    "print(dict1)\n",
    "print(\"New Dictionary after dropping empty items:\")\n",
    "dict1 = {key: value for (key, value) in dict1.items() if value is not None}\n",
    "print(dict1) "
   ]
  },
  {
   "cell_type": "code",
   "execution_count": 25,
   "id": "ed48e889-aaa5-4614-8489-161f2954fe0d",
   "metadata": {},
   "outputs": [
    {
     "name": "stdout",
     "output_type": "stream",
     "text": [
      "Original Dictionary:\n",
      "{'Cierra Vega': 175, 'Alden Cantrell': 180, 'Kierra Gentry': 165, 'Pierre Cox': 190}\n",
      "Marks greater than 170:\n",
      "{'Cierra Vega': 175, 'Alden Cantrell': 180, 'Pierre Cox': 190}\n"
     ]
    }
   ],
   "source": [
    "marks = {'Cierra Vega': 175, 'Alden Cantrell': 180, 'Kierra Gentry': 165, 'Pierre Cox': 190}\n",
    "print(\"Original Dictionary:\")\n",
    "print(marks)\n",
    "print(\"Marks greater than 170:\")\n",
    "result = {key: value for (key, value) in marks.items() if value >= 170}\n",
    "print(result) "
   ]
  },
  {
   "cell_type": "code",
   "execution_count": 27,
   "id": "8129b17d-e009-4b0b-9fb2-61cee8688af5",
   "metadata": {},
   "outputs": [
    {
     "name": "stdout",
     "output_type": "stream",
     "text": [
      "Original strings:\n",
      "['S001', 'S002', 'S003', 'S004']\n",
      "['Adina Park', 'Leyton Marsh', 'Duncan Boyle', 'Saim Richards']\n",
      "[85, 98, 89, 92]\n",
      "Nested dictionary:\n",
      "[{'S001': {'Adina Park': 85}}, {'S002': {'Leyton Marsh': 98}}, {'S003': {'Duncan Boyle': 89}}, {'S004': {'Saim Richards': 92}}]\n"
     ]
    }
   ],
   "source": [
    "def nested_dictionary(l1, l2, l3):\n",
    "     result = [{x: {y: z}} for (x, y, z) in zip(l1, l2, l3)]\n",
    "     return result\n",
    "student_id = [\"S001\", \"S002\", \"S003\", \"S004\"] \n",
    "student_name = [\"Adina Park\", \"Leyton Marsh\", \"Duncan Boyle\", \"Saim Richards\"] \n",
    "student_grade = [85, 98, 89, 92]\n",
    "print(\"Original strings:\")\n",
    "print(student_id)\n",
    "print(student_name)\n",
    "print(student_grade)\n",
    "print(\"Nested dictionary:\")\n",
    "ch = 'a'\n",
    "print(nested_dictionary(student_id, student_name, student_grade)) "
   ]
  }
 ],
 "metadata": {
  "kernelspec": {
   "display_name": "Python 3 (ipykernel)",
   "language": "python",
   "name": "python3"
  },
  "language_info": {
   "codemirror_mode": {
    "name": "ipython",
    "version": 3
   },
   "file_extension": ".py",
   "mimetype": "text/x-python",
   "name": "python",
   "nbconvert_exporter": "python",
   "pygments_lexer": "ipython3",
   "version": "3.11.5"
  }
 },
 "nbformat": 4,
 "nbformat_minor": 5
}
